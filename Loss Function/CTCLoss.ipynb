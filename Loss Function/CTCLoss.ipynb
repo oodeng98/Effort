{
 "cells": [
  {
   "cell_type": "code",
   "execution_count": 2,
   "metadata": {},
   "outputs": [
    {
     "name": "stdout",
     "output_type": "stream",
     "text": [
      "tensor([[14,  4,  3,  7,  2, 11, 11, 16,  1, 16, 13,  6, 19,  7,  1, 11, 12, 15,\n",
      "         16, 17,  4, 18,  5, 17,  3, 11,  8,  5, 11, 12],\n",
      "        [19, 12, 14, 15,  7, 16,  7,  1,  7, 18,  4, 17, 14,  9,  1,  8,  7,  2,\n",
      "         17, 13, 10,  4, 15, 18, 15,  2, 13,  2,  6,  6],\n",
      "        [12, 12,  5,  2,  9, 12,  2, 17, 11,  5, 14,  3, 16,  1, 19, 15, 16, 16,\n",
      "          3,  3,  1,  9, 18, 19,  3, 10, 14, 12, 10,  3],\n",
      "        [14,  8, 11, 11, 19,  2,  5, 18, 15, 18, 13,  3,  2, 18, 16, 11, 15, 12,\n",
      "         11, 18,  5, 18, 17,  1,  5, 14,  7, 18,  2, 14],\n",
      "        [15, 11,  7,  1,  3, 17, 17, 16, 13, 11, 12, 19,  7, 14,  6,  8, 16,  9,\n",
      "         10, 19,  3, 19,  8, 11, 18, 10, 18, 11,  8, 19],\n",
      "        [ 1, 18, 18,  1,  1,  4,  7,  7, 10,  4, 19, 19, 15,  8, 13,  4,  1,  2,\n",
      "         10,  1,  5, 16, 11, 12,  9, 11, 15, 13, 12,  2],\n",
      "        [19, 10,  5, 11,  3,  8,  8,  1, 14,  9,  6, 10,  9,  3,  2, 18,  5,  1,\n",
      "         15, 12, 12,  6,  2,  2,  5,  6, 11,  8, 18, 17],\n",
      "        [11, 11,  8, 13,  1, 16,  6, 18, 12,  9, 12, 17,  8, 10, 10, 13, 18, 19,\n",
      "          5,  3, 18, 12,  1, 18, 15, 14, 10,  5, 18,  3],\n",
      "        [ 2,  3,  2, 14, 14, 12,  6, 14,  6,  8, 18,  2, 10,  6,  9,  2, 19, 18,\n",
      "         10,  2,  4, 18, 10,  2, 10,  1,  4,  2, 12, 15],\n",
      "        [ 2, 12, 14, 13, 12, 10, 11, 13, 11,  9, 16,  3, 17, 15,  4, 12,  8, 19,\n",
      "         16,  2,  7, 14, 12, 10, 17,  2,  2, 15, 17, 17],\n",
      "        [ 7,  7, 15,  6,  1,  8, 16, 13, 19,  1,  4,  9,  5, 14, 14,  2, 18,  4,\n",
      "          7, 16, 13, 13, 14, 10,  2,  7, 13,  6, 10, 18],\n",
      "        [ 8,  1,  1,  3, 14,  1, 19,  1,  3,  2, 14,  1,  2,  7, 13,  7, 14, 11,\n",
      "          4, 15, 11, 19, 17,  8,  8, 17,  6, 16,  3,  2],\n",
      "        [ 6, 10, 15, 11,  6, 13,  8,  7,  5,  3, 16, 17, 16,  6,  5,  2,  2,  4,\n",
      "          9, 13, 17,  2, 14, 17,  5, 14, 12, 10, 17,  9],\n",
      "        [ 6,  8,  7,  9,  7,  3,  9, 19, 16, 18, 16, 10,  8, 15, 18,  1,  5,  5,\n",
      "         15, 14,  5, 13,  5, 19,  8,  9, 11,  1, 14,  9],\n",
      "        [ 2, 19, 18,  8,  4, 16, 12, 11, 10,  8, 17, 19, 14, 11,  2, 12,  2, 18,\n",
      "          8, 12, 14,  2,  5, 10,  3,  3,  4, 17,  2, 12],\n",
      "        [13,  5, 11,  7,  5, 13, 15, 18,  1,  1, 10,  4, 11,  1, 17,  9,  7,  9,\n",
      "          2,  3, 14, 11, 17, 11, 18, 11, 16,  6, 11,  8]])\n"
     ]
    },
    {
     "ename": "IndexError",
     "evalue": "Dimension out of range (expected to be in range of [-2, 1], but got 2)",
     "output_type": "error",
     "traceback": [
      "\u001b[1;31m---------------------------------------------------------------------------\u001b[0m",
      "\u001b[1;31mIndexError\u001b[0m                                Traceback (most recent call last)",
      "Cell \u001b[1;32mIn[2], line 39\u001b[0m\n\u001b[0;32m     36\u001b[0m C \u001b[39m=\u001b[39m \u001b[39m20\u001b[39m      \u001b[39m# Number of classes (including blank)\u001b[39;00m\n\u001b[0;32m     37\u001b[0m \u001b[39m# Initialize random batch of input vectors, for *size = (T,C)\u001b[39;00m\n\u001b[0;32m     38\u001b[0m \u001b[39m# xdoctest: +SKIP(\"FIXME: error in doctest\")\u001b[39;00m\n\u001b[1;32m---> 39\u001b[0m \u001b[39minput\u001b[39m \u001b[39m=\u001b[39m torch\u001b[39m.\u001b[39;49mrandn(T, C)\u001b[39m.\u001b[39;49mlog_softmax(\u001b[39m2\u001b[39;49m)\u001b[39m.\u001b[39mdetach()\u001b[39m.\u001b[39mrequires_grad_()\n\u001b[0;32m     40\u001b[0m input_lengths \u001b[39m=\u001b[39m torch\u001b[39m.\u001b[39mtensor(T, dtype\u001b[39m=\u001b[39mtorch\u001b[39m.\u001b[39mlong)\n\u001b[0;32m     41\u001b[0m \u001b[39m# Initialize random batch of targets (0 = blank, 1:C = classes)\u001b[39;00m\n",
      "\u001b[1;31mIndexError\u001b[0m: Dimension out of range (expected to be in range of [-2, 1], but got 2)"
     ]
    }
   ],
   "source": [
    "import torch\n",
    "from torch import nn\n",
    "\n",
    "# Target are to be padded\n",
    "T = 50      # Input sequence length\n",
    "C = 20      # Number of classes (including blank)\n",
    "N = 16      # Batch size\n",
    "S = 30      # Target sequence length of longest target in batch (padding length)\n",
    "S_min = 10  # Minimum target length, for demonstration purposes\n",
    "# Initialize random batch of input vectors, for *size = (T,N,C)\n",
    "input = torch.randn(T, N, C).log_softmax(2).detach().requires_grad_()\n",
    "# print(input)\n",
    "# Initialize random batch of targets (0 = blank, 1:C = classes)\n",
    "target = torch.randint(low=1, high=C, size=(N, S), dtype=torch.long)\n",
    "print(target)\n",
    "input_lengths = torch.full(size=(N,), fill_value=T, dtype=torch.long)\n",
    "target_lengths = torch.randint(low=S_min, high=S, size=(N,), dtype=torch.long)\n",
    "ctc_loss = nn.CTCLoss()\n",
    "loss = ctc_loss(input, target, input_lengths, target_lengths)\n",
    "loss.backward()\n",
    "# Target are to be un-padded\n",
    "T = 50      # Input sequence length\n",
    "C = 20      # Number of classes (including blank)\n",
    "N = 16      # Batch size\n",
    "# Initialize random batch of input vectors, for *size = (T,N,C)\n",
    "input = torch.randn(T, N, C).log_softmax(2).detach().requires_grad_()\n",
    "input_lengths = torch.full(size=(N,), fill_value=T, dtype=torch.long)\n",
    "# Initialize random batch of targets (0 = blank, 1:C = classes)\n",
    "target_lengths = torch.randint(low=1, high=T, size=(N,), dtype=torch.long)\n",
    "target = torch.randint(low=1, high=C, size=(sum(target_lengths),), dtype=torch.long)\n",
    "ctc_loss = nn.CTCLoss()\n",
    "loss = ctc_loss(input, target, input_lengths, target_lengths)\n",
    "loss.backward()\n",
    "# Target are to be un-padded and unbatched (effectively N=1)\n",
    "T = 50      # Input sequence length\n",
    "C = 20      # Number of classes (including blank)\n",
    "# Initialize random batch of input vectors, for *size = (T,C)\n",
    "# xdoctest: +SKIP(\"FIXME: error in doctest\")\n",
    "input = torch.randn(T, C).log_softmax(2).detach().requires_grad_()\n",
    "input_lengths = torch.tensor(T, dtype=torch.long)\n",
    "# Initialize random batch of targets (0 = blank, 1:C = classes)\n",
    "target_lengths = torch.randint(low=1, high=T, size=(), dtype=torch.long)\n",
    "target = torch.randint(low=1, high=C, size=(target_lengths,), dtype=torch.long)\n",
    "ctc_loss = nn.CTCLoss()\n",
    "loss = ctc_loss(input, target, input_lengths, target_lengths)\n",
    "loss.backward()"
   ]
  }
 ],
 "metadata": {
  "kernelspec": {
   "display_name": "Python 3",
   "language": "python",
   "name": "python3"
  },
  "language_info": {
   "codemirror_mode": {
    "name": "ipython",
    "version": 3
   },
   "file_extension": ".py",
   "mimetype": "text/x-python",
   "name": "python",
   "nbconvert_exporter": "python",
   "pygments_lexer": "ipython3",
   "version": "3.10.8"
  },
  "orig_nbformat": 4
 },
 "nbformat": 4,
 "nbformat_minor": 2
}
