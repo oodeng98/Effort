{
 "cells": [
  {
   "cell_type": "markdown",
   "metadata": {},
   "source": [
    "연\t월\t일\t시\t건물번호\t기온(C)\t강수량(mm)\t풍속(m/s)\t습도(%)\n",
    " - XGBRegressor: 0.9655916940702893\n",
    " - Dacon 점수: 17.44154\n",
    "\n",
    "넣을 수 있는 column 다 넣은 경우\n",
    " - XGBRegressor: 0.9737195720193215\n",
    " - Dacon 점수: 16.55132\n",
    "\n",
    " - '습도(%)', 'ESS저장용량(kWh)', '연', '풍속(m/s)', '강수량(mm)' 제거\n",
    " - XGBRegressor: 0.9747093891268452\n",
    " - Dacon 점수: 16.55132\n",
    " - RanForestRegressor: 0.9866593482821421\n",
    " - Dacon 점수: 11.80555"
   ]
  },
  {
   "cell_type": "code",
   "execution_count": 1,
   "metadata": {},
   "outputs": [],
   "source": [
    "import numpy as np\n",
    "\n",
    "def smape(true, predict):  # Symmetric Mean Absolute Percentage Error\n",
    "    return 100/len(true) * np.sum(2 * np.abs(true - predict) / (np.abs(true) + np.abs(predict)))"
   ]
  },
  {
   "cell_type": "code",
   "execution_count": 2,
   "metadata": {},
   "outputs": [],
   "source": [
    "import pandas as pd\n",
    "\n",
    "\n",
    "building_info = pd.read_csv('./data/building_info.csv')\n",
    "test = pd.read_csv('./data/test.csv')\n",
    "train = pd.read_csv('./data/train.csv')\n",
    "sample = pd.read_csv('./data/sample_submission.csv')\n",
    "# display(train.head(1))\n",
    "# display(test.head(1))\n",
    "# display(building_info.head(1))"
   ]
  },
  {
   "cell_type": "code",
   "execution_count": 3,
   "metadata": {},
   "outputs": [],
   "source": [
    "from sklearn.preprocessing import OneHotEncoder\n",
    "\n",
    "building_info.replace('-', 0, inplace=True)\n",
    "onehotencoder = OneHotEncoder(sparse_output=False)\n",
    "building_type = onehotencoder.fit_transform(building_info[['건물유형']])\n",
    "\n",
    "temp = pd.DataFrame(building_type)\n",
    "temp.columns = onehotencoder.categories_[0]\n",
    "\n",
    "\n",
    "building = pd.concat([building_info, temp], axis=1)\n",
    "del building['건물유형']\n",
    "building = building.astype('float')\n",
    "# building.head(3)"
   ]
  },
  {
   "cell_type": "code",
   "execution_count": 4,
   "metadata": {},
   "outputs": [],
   "source": [
    "def data_preprocessing(data):  \n",
    "    data.fillna(0, inplace=True)\n",
    "    data['연'] = data['num_date_time'].apply(lambda x: int(x.split('_')[1][:4]))\n",
    "    data['월'] = data['num_date_time'].apply(lambda x: int(x.split('_')[1][4:6]))\n",
    "    data['일'] = data['num_date_time'].apply(lambda x: int(x.split('_')[1][6:8]))\n",
    "    data['시'] = data['num_date_time'].apply(lambda x: int(x.split(' ')[1]))\n",
    "    del data['일시']\n",
    "    del data['num_date_time']\n",
    "    \n",
    "    data = pd.merge(data, building, on='건물번호')\n",
    "    del data['건물번호']\n",
    "    # display(data.head(3))\n",
    "    return data\n",
    "\n",
    "train.drop(['일조(hr)', '일사(MJ/m2)'], axis=1, inplace=True)\n",
    "train = data_preprocessing(train)"
   ]
  },
  {
   "cell_type": "code",
   "execution_count": 6,
   "metadata": {},
   "outputs": [],
   "source": [
    "y = train['전력소비량(kWh)']\n",
    "del train['전력소비량(kWh)']"
   ]
  },
  {
   "cell_type": "code",
   "execution_count": 7,
   "metadata": {},
   "outputs": [],
   "source": [
    "# 변수 선정\n",
    "from itertools import *\n",
    "from xgboost import XGBRegressor\n",
    "from sklearn.metrics import r2_score\n",
    "from sklearn.model_selection import train_test_split\n",
    "from tqdm import tqdm\n",
    "\n",
    "origin_train = train.copy()\n",
    "print(origin_train.columns)\n",
    "origin_train.drop(['습도(%)', 'ESS저장용량(kWh)', '연', '풍속(m/s)', '강수량(mm)'], axis=1, inplace=True)\n",
    "print()\n",
    "print(origin_train.columns)\n",
    "candidate = []\n",
    "\n",
    "result = []\n",
    "\n",
    "for i in tqdm(range(len(origin_train.columns) - 12)):\n",
    "    col = list(origin_train.columns[:i])\n",
    "    col.extend(origin_train.columns[i+1:])\n",
    "    X = origin_train[col]\n",
    "    X_train, X_test, y_train, y_test = train_test_split(X, y, test_size=0.25, random_state=987)\n",
    "\n",
    "    XR = XGBRegressor()\n",
    "    XR.fit(X_train, y_train)\n",
    "    y_pred = XR.predict(X_test)\n",
    "    score = smape(y_test, y_pred)\n",
    "    result.append((origin_train.columns[i], score))\n",
    "\n",
    "result.sort(key=lambda x: x[1], reverse=True)\n",
    "for i in result:\n",
    "    print(i)"
   ]
  },
  {
   "cell_type": "code",
   "execution_count": 14,
   "metadata": {},
   "outputs": [],
   "source": [
    "from sklearn.model_selection import train_test_split\n",
    "from sklearn.metrics import r2_score\n",
    "\n",
    "columns = ['기온(C)', '월', '일', '시', '연면적(m2)', '냉방면적(m2)', '태양광용량(kW)', 'PCS용량(kW)', '건물기타', '공공',\n",
    "           '대학교', '데이터센터', '백화점및아울렛', '병원', '상용', '아파트', '연구소', '지식산업센터', '할인마트', '호텔및리조트']\n",
    "\n",
    "data = train[columns]\n",
    "\n",
    "X_train, X_test, y_train, y_test = train_test_split(data, y, test_size=0.5, random_state=987)"
   ]
  },
  {
   "cell_type": "code",
   "execution_count": 9,
   "metadata": {},
   "outputs": [
    {
     "data": {
      "text/plain": [
       "12.050286769802911"
      ]
     },
     "execution_count": 9,
     "metadata": {},
     "output_type": "execute_result"
    }
   ],
   "source": [
    "from xgboost import XGBRegressor\n",
    "\n",
    "XR = XGBRegressor()\n",
    "XR.fit(X_train, y_train)\n",
    "y_pred = XR.predict(X_test)\n",
    "smape(y_test, y_pred)"
   ]
  },
  {
   "cell_type": "code",
   "execution_count": 15,
   "metadata": {},
   "outputs": [
    {
     "data": {
      "text/plain": [
       "6.825222554179898"
      ]
     },
     "execution_count": 15,
     "metadata": {},
     "output_type": "execute_result"
    }
   ],
   "source": [
    "from sklearn.ensemble import RandomForestRegressor\n",
    "\n",
    "RFR = RandomForestRegressor()\n",
    "RFR.fit(X_train, y_train)\n",
    "y_pred = RFR.predict(X_test)\n",
    "smape(y_test, y_pred)"
   ]
  },
  {
   "cell_type": "code",
   "execution_count": 11,
   "metadata": {},
   "outputs": [
    {
     "name": "stdout",
     "output_type": "stream",
     "text": [
      "[LightGBM] [Warning] Auto-choosing row-wise multi-threading, the overhead of testing was 0.003196 seconds.\n",
      "You can set `force_row_wise=true` to remove the overhead.\n",
      "And if memory is not enough, you can set `force_col_wise=true`.\n",
      "[LightGBM] [Info] Total Bins 566\n",
      "[LightGBM] [Info] Number of data points in the train set: 102000, number of used features: 20\n",
      "[LightGBM] [Info] Start training from score 2455.908183\n"
     ]
    },
    {
     "data": {
      "text/plain": [
       "14.800485313114013"
      ]
     },
     "execution_count": 11,
     "metadata": {},
     "output_type": "execute_result"
    }
   ],
   "source": [
    "from lightgbm import LGBMRegressor\n",
    "\n",
    "LR = LGBMRegressor()\n",
    "LR.fit(X_train, y_train)\n",
    "y_pred = LR.predict(X_test)\n",
    "smape(y_test, y_pred)"
   ]
  },
  {
   "cell_type": "code",
   "execution_count": 16,
   "metadata": {},
   "outputs": [],
   "source": [
    "import datetime\n",
    "\n",
    "test = pd.read_csv('./data/test.csv')\n",
    "test_data = data_preprocessing(test)\n",
    "test_data = test_data[columns]\n",
    "answer = RFR.predict(test_data)\n",
    "\n",
    "submission = pd.DataFrame()\n",
    "submission['num_date_time'] = sample['num_date_time']\n",
    "submission['answer'] = answer\n",
    "\n",
    "now = datetime.datetime.now().strftime(\"%Y-%m-%d %H시%M분%S초\")\n",
    "submission.to_csv(f'{now}.csv', index=False)"
   ]
  }
 ],
 "metadata": {
  "kernelspec": {
   "display_name": "Python 3",
   "language": "python",
   "name": "python3"
  },
  "language_info": {
   "codemirror_mode": {
    "name": "ipython",
    "version": 3
   },
   "file_extension": ".py",
   "mimetype": "text/x-python",
   "name": "python",
   "nbconvert_exporter": "python",
   "pygments_lexer": "ipython3",
   "version": "3.10.8"
  },
  "orig_nbformat": 4
 },
 "nbformat": 4,
 "nbformat_minor": 2
}
