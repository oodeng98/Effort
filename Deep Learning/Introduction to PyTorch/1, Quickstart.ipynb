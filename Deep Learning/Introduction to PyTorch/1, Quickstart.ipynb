{
 "cells": [
  {
   "cell_type": "code",
   "execution_count": 18,
   "metadata": {},
   "outputs": [],
   "source": [
    "import torch\n",
    "from torch import nn\n",
    "from torch.utils.data import DataLoader  # 주어진 dataset과 sampler를 감싸서 iterable한 객체로 반환하는 역할\n",
    "from torchvision import datasets  # 라이브러리에서 주어지는 데이터셋을 불러오는 용도\n",
    "from torchvision.transforms import ToTensor  # PIL Image나 Numpy를 FloatTensor로 변환하고 이미지의 픽셀의 크기를 [0, 1] 범위로 비례하여 조정"
   ]
  },
  {
   "cell_type": "code",
   "execution_count": 19,
   "metadata": {},
   "outputs": [],
   "source": [
    "training_data = datasets.FashionMNIST(\n",
    "    root=\"data\",\n",
    "    train=True,\n",
    "    download=True,\n",
    "    transform=ToTensor()\n",
    ")\n",
    "\n",
    "test_data = datasets.FashionMNIST(\n",
    "    root=\"data\",\n",
    "    train=False,\n",
    "    download=True,\n",
    "    transform=ToTensor()\n",
    ")"
   ]
  },
  {
   "cell_type": "code",
   "execution_count": 20,
   "metadata": {},
   "outputs": [
    {
     "name": "stdout",
     "output_type": "stream",
     "text": [
      "Shape of X [N, C, H, W]: torch.Size([64, 1, 28, 28])\n",
      "Shape of y: torch.Size([64]) torch.int64\n"
     ]
    }
   ],
   "source": [
    "batch_size = 64  # 한번에 학습할 개수, 전체 데이터를 한번에 학습하기엔 양이 많으므로 설정해주는 것\n",
    "\n",
    "train_dataloader = DataLoader(training_data, batch_size=batch_size)\n",
    "test_dataloader = DataLoader(test_data, batch_size=batch_size)\n",
    "\n",
    "for X, y in test_dataloader:\n",
    "    print(f\"Shape of X [N, C, H, W]: {X.shape}\")  # N: batch_size와 동일, C: Channel, 3인 경우 컬러, 1인 경우 흑백, H: Height, W: Width\n",
    "    # 일반적으로 이미지는 H, W, C 순서로 나타낸다, 28*28*1\n",
    "    \n",
    "    # flatten = nn.Flatten()\n",
    "    # flat_image = flatten(X)\n",
    "    # print(flat_image.shape)\n",
    "    print(f\"Shape of y: {y.shape} {y.dtype}\")  # batch_size가 64로 설정되었으므로 64의 길이를 가지는 배열로 만들었다고 생각하면 될 듯 싶다\n",
    "    break"
   ]
  },
  {
   "cell_type": "markdown",
   "metadata": {},
   "source": [
    "#### Create Models"
   ]
  },
  {
   "cell_type": "code",
   "execution_count": 21,
   "metadata": {},
   "outputs": [
    {
     "name": "stdout",
     "output_type": "stream",
     "text": [
      "Using cpu device\n"
     ]
    }
   ],
   "source": [
    "device = (\n",
    "    \"cuda\"\n",
    "    if torch.cuda.is_available()\n",
    "    else \"mps\"\n",
    "    if torch.backends.mps.is_available()\n",
    "    else \"cpu\"\n",
    ")\n",
    "print(f'Using {device} device')"
   ]
  },
  {
   "cell_type": "code",
   "execution_count": 22,
   "metadata": {},
   "outputs": [
    {
     "name": "stdout",
     "output_type": "stream",
     "text": [
      "NeuralNetwork(\n",
      "  (flatten): Flatten(start_dim=1, end_dim=-1)\n",
      "  (linear_relu_stack): Sequential(\n",
      "    (0): Linear(in_features=784, out_features=512, bias=True)\n",
      "    (1): ReLU()\n",
      "    (2): Linear(in_features=512, out_features=512, bias=True)\n",
      "    (3): ReLU()\n",
      "    (4): Linear(in_features=512, out_features=10, bias=True)\n",
      "  )\n",
      ")\n"
     ]
    }
   ],
   "source": [
    "class NeuralNetwork(nn.Module):\n",
    "    def __init__(self):\n",
    "        super().__init__()\n",
    "        self.flatten = nn.Flatten()  # Linear Layer를 사용하기 위해 Flatten해준다, batch_size * 784 형태의 배열이 만들어진다\n",
    "        self.linear_relu_stack = nn.Sequential(\n",
    "            nn.Linear(28*28, 512), \n",
    "            nn.ReLU(), \n",
    "            nn.Linear(512, 512), \n",
    "            nn.ReLU(),\n",
    "            nn.Linear(512, 10)\n",
    "        )\n",
    "        \n",
    "    def forward(self, x):  # model(x)로 호출하면 forward 함수가 호출되어 값을 반환한다는데, 모델을 학습한 후 예측할 때 쓰이는 것인가 싶음, 정확히 이해는 안된다\n",
    "        x = self.flatten(x)\n",
    "        logits = self.linear_relu_stack(x)\n",
    "        return logits\n",
    "    \n",
    "model = NeuralNetwork().to(device)\n",
    "print(model)"
   ]
  },
  {
   "cell_type": "markdown",
   "metadata": {},
   "source": [
    "#### Optimizing the Model Parameters"
   ]
  },
  {
   "cell_type": "code",
   "execution_count": 23,
   "metadata": {},
   "outputs": [],
   "source": [
    "loss_fn = nn.CrossEntropyLoss()  # loss function, 손실 함수라고 불리며 예측값과 실제값 간의 오차를 의미\n",
    "# 종류로는 MSE(Mean Squard Error), RMSE(Root Mean Squared Error), Binary Crossentropy(레이블의 개수가 2개인 경우 사용)\n",
    "# https://velog.io/@rcchun/%EB%A8%B8%EC%8B%A0%EB%9F%AC%EB%8B%9D-%EC%86%90%EC%8B%A4%ED%95%A8%EC%88%98%EC%9D%98-%EC%A2%85%EB%A5%98#categorical-crossentropy\n",
    "optimizer = torch.optim.SGD(model.parameters(), lr=1e-3)  # 손실 함수의 최솟값을 찾아나가는 방법, 과정을 의미\n",
    "# https://blog.kakaocdn.net/dn/bQ934t/btqASyVqeeD/ozNDSKWvAbxiJb7VtgLkSk/img.png"
   ]
  },
  {
   "cell_type": "code",
   "execution_count": 24,
   "metadata": {},
   "outputs": [],
   "source": [
    "def train(dataloader, model, loss_fn, optimizer):\n",
    "    size = len(dataloader.dataset)\n",
    "    model.train()\n",
    "    for batch, (X, y) in enumerate(dataloader):\n",
    "        X, y = X.to(device), y.to(device)\n",
    "        \n",
    "        pred = model(X)  # 예측값\n",
    "        loss = loss_fn(pred, y)  # 오차\n",
    "        \n",
    "        # Backpropagation, 역전파라고 부름\n",
    "        # https://evan-moon.github.io/2018/07/19/deep-learning-backpropagation/\n",
    "        \n",
    "        loss.backward()  # prediction loss를 역전파\n",
    "        optimizer.step()  # 역전파 단계에서 수집된 변화도로 매개변수를 조정\n",
    "        optimizer.zero_grad()  # 매개변수의 변화도는 기본적으로 더해지기 때문에 중복 계산을 막기 위해서 0으로 설정\n",
    "        \n",
    "        if batch % 100 == 0:\n",
    "            loss, current = loss.item(), (batch + 1) * len(X)  # len(X)는 batch_size와 같다\n",
    "            print(f'loss: {loss:>7f} [{current:>5d}/{size:>5d}]')"
   ]
  },
  {
   "cell_type": "code",
   "execution_count": 25,
   "metadata": {},
   "outputs": [],
   "source": [
    "def test(dataloader, model, loss_fn):\n",
    "    size = len(dataloader.dataset)\n",
    "    num_batches = len(dataloader)\n",
    "    model.eval()\n",
    "    test_loss, correct = 0, 0\n",
    "    with torch.no_grad():  # gradient 계산을 비활성화하는 역할\n",
    "        for X, y in dataloader:\n",
    "            X, y = X.to(device), y.to(device)\n",
    "            pred = model(X)\n",
    "            test_loss += loss_fn(pred, y).item()\n",
    "            correct += (pred.argmax(1) == y).type(torch.float).sum().item()\n",
    "    test_loss /= num_batches\n",
    "    correct /= size\n",
    "    print(f'Test Error: \\n Accuracy: {(100*correct):>0.1f}%, Avg loss: {test_loss:>8f}\\n')"
   ]
  },
  {
   "cell_type": "code",
   "execution_count": 26,
   "metadata": {},
   "outputs": [
    {
     "name": "stdout",
     "output_type": "stream",
     "text": [
      "Epoch 1\n",
      "-----------------------------------\n",
      "loss: 2.297910 [   64/60000]\n"
     ]
    },
    {
     "name": "stdout",
     "output_type": "stream",
     "text": [
      "loss: 2.285151 [ 6464/60000]\n",
      "loss: 2.261744 [12864/60000]\n",
      "loss: 2.254677 [19264/60000]\n",
      "loss: 2.241296 [25664/60000]\n",
      "loss: 2.210982 [32064/60000]\n",
      "loss: 2.222811 [38464/60000]\n",
      "loss: 2.183017 [44864/60000]\n",
      "loss: 2.174458 [51264/60000]\n",
      "loss: 2.143850 [57664/60000]\n",
      "Test Error: \n",
      " Accuracy: 44.7%, Avg loss: 2.135218\n",
      "\n",
      "Epoch 2\n",
      "-----------------------------------\n",
      "loss: 2.148204 [   64/60000]\n",
      "loss: 2.138039 [ 6464/60000]\n",
      "loss: 2.071001 [12864/60000]\n",
      "loss: 2.084370 [19264/60000]\n",
      "loss: 2.038544 [25664/60000]\n",
      "loss: 1.978342 [32064/60000]\n",
      "loss: 2.006993 [38464/60000]\n",
      "loss: 1.917298 [44864/60000]\n",
      "loss: 1.924068 [51264/60000]\n",
      "loss: 1.852897 [57664/60000]\n",
      "Test Error: \n",
      " Accuracy: 55.4%, Avg loss: 1.843811\n",
      "\n",
      "Epoch 3\n",
      "-----------------------------------\n",
      "loss: 1.882779 [   64/60000]\n",
      "loss: 1.855519 [ 6464/60000]\n",
      "loss: 1.723176 [12864/60000]\n",
      "loss: 1.763973 [19264/60000]\n",
      "loss: 1.662400 [25664/60000]\n",
      "loss: 1.619750 [32064/60000]\n",
      "loss: 1.643136 [38464/60000]\n",
      "loss: 1.535693 [44864/60000]\n",
      "loss: 1.569164 [51264/60000]\n",
      "loss: 1.469069 [57664/60000]\n",
      "Test Error: \n",
      " Accuracy: 59.8%, Avg loss: 1.481059\n",
      "\n",
      "Epoch 4\n",
      "-----------------------------------\n",
      "loss: 1.549968 [   64/60000]\n",
      "loss: 1.524237 [ 6464/60000]\n",
      "loss: 1.363164 [12864/60000]\n",
      "loss: 1.438933 [19264/60000]\n",
      "loss: 1.326213 [25664/60000]\n",
      "loss: 1.328278 [32064/60000]\n",
      "loss: 1.345512 [38464/60000]\n",
      "loss: 1.258727 [44864/60000]\n",
      "loss: 1.302937 [51264/60000]\n",
      "loss: 1.209154 [57664/60000]\n",
      "Test Error: \n",
      " Accuracy: 62.6%, Avg loss: 1.232631\n",
      "\n",
      "Epoch 5\n",
      "-----------------------------------\n",
      "loss: 1.306249 [   64/60000]\n",
      "loss: 1.300776 [ 6464/60000]\n",
      "loss: 1.123795 [12864/60000]\n",
      "loss: 1.234390 [19264/60000]\n",
      "loss: 1.110859 [25664/60000]\n",
      "loss: 1.141541 [32064/60000]\n",
      "loss: 1.166338 [38464/60000]\n",
      "loss: 1.089386 [44864/60000]\n",
      "loss: 1.136632 [51264/60000]\n",
      "loss: 1.059434 [57664/60000]\n",
      "Test Error: \n",
      " Accuracy: 64.5%, Avg loss: 1.078707\n",
      "\n",
      "Done!\n"
     ]
    }
   ],
   "source": [
    "epochs = 5\n",
    "for t in range(epochs):\n",
    "    print(f'Epoch {t + 1}\\n-----------------------------------')\n",
    "    train(train_dataloader, model, loss_fn, optimizer)\n",
    "    test(test_dataloader, model, loss_fn)\n",
    "print(\"Done!\")"
   ]
  },
  {
   "cell_type": "markdown",
   "metadata": {},
   "source": [
    "#### Saving, Loading Model"
   ]
  },
  {
   "cell_type": "code",
   "execution_count": 27,
   "metadata": {},
   "outputs": [],
   "source": [
    "# torch.save(model.state_dict(), 'model.pth')\n",
    "# print('Saved PyTorch Model State to model.pth')"
   ]
  },
  {
   "cell_type": "code",
   "execution_count": 28,
   "metadata": {},
   "outputs": [],
   "source": [
    "# model = NeuralNetwork().to(device)\n",
    "# model.load_state_dict(torch.load(\"model.pth\"))"
   ]
  },
  {
   "cell_type": "code",
   "execution_count": 29,
   "metadata": {},
   "outputs": [
    {
     "name": "stdout",
     "output_type": "stream",
     "text": [
      "Predicted: \"Ankle boot\", Actual: \"Ankle boot\"\n"
     ]
    }
   ],
   "source": [
    "classes = [\n",
    "    \"T-shirt/top\",\n",
    "    \"Trouser\",\n",
    "    \"Pullover\",\n",
    "    \"Dress\",\n",
    "    \"Coat\",\n",
    "    \"Sandal\",\n",
    "    \"Shirt\",\n",
    "    \"Sneaker\",\n",
    "    \"Bag\",\n",
    "    \"Ankle boot\",\n",
    "]\n",
    "\n",
    "model.eval()  # 모듈을 평가 모드로 설정\n",
    "x, y = test_data[0][0], test_data[0][1]\n",
    "with torch.no_grad():\n",
    "    x = x.to(device)\n",
    "    pred = model(x)\n",
    "    predicted, actual = classes[pred[0].argmax(0)], classes[y]\n",
    "    print(f'Predicted: \"{predicted}\", Actual: \"{actual}\"')"
   ]
  }
 ],
 "metadata": {
  "kernelspec": {
   "display_name": "Python 3",
   "language": "python",
   "name": "python3"
  },
  "language_info": {
   "codemirror_mode": {
    "name": "ipython",
    "version": 3
   },
   "file_extension": ".py",
   "mimetype": "text/x-python",
   "name": "python",
   "nbconvert_exporter": "python",
   "pygments_lexer": "ipython3",
   "version": "3.10.8"
  },
  "orig_nbformat": 4
 },
 "nbformat": 4,
 "nbformat_minor": 2
}
