{
 "cells": [
  {
   "cell_type": "code",
   "execution_count": 1,
   "metadata": {},
   "outputs": [
    {
     "name": "stdout",
     "output_type": "stream",
     "text": [
      "tensor([[ 1.2826,  0.0983, -0.4978, -0.1168,  0.3957],\n",
      "        [ 0.1501, -0.1502,  0.4108, -0.4364,  0.5115],\n",
      "        [-0.2886, -0.2588,  0.7109,  0.5757,  1.2786]], requires_grad=True)\n",
      "[[3.6060584  1.1033287  0.6078573  0.8897628  1.4854872 ]\n",
      " [1.1619556  0.86055225 1.5080451  0.64635205 1.6678659 ]\n",
      " [0.7492799  0.7719955  2.0357955  1.7784064  3.591444  ]]\n",
      "\n",
      "1.6847962839008097\n",
      "tensor([1, 3, 4])\n",
      "tensor(1.6848, grad_fn=<NllLossBackward0>)\n"
     ]
    }
   ],
   "source": [
    "import torch\n",
    "from torch import nn\n",
    "import numpy as np\n",
    "import math\n",
    "\n",
    "loss = nn.CrossEntropyLoss()\n",
    "input = torch.randn(3, 5, requires_grad=True)\n",
    "print(input)\n",
    "print(np.exp(input.detach().cpu().numpy()))\n",
    "\n",
    "target = torch.empty(3, dtype=torch.long).random_(5)\n",
    "total = 0\n",
    "for i in range(3):\n",
    "    a = np.exp(input.detach().cpu().numpy())[i][target[i]]\n",
    "    b = np.exp(input.detach().cpu().numpy())[i].sum()\n",
    "    total += math.log(a / b)\n",
    "    \n",
    "print()\n",
    "print(-total / 3)\n",
    "print(target)\n",
    "output = loss(input, target)\n",
    "print(output)\n",
    "output.backward()"
   ]
  },
  {
   "cell_type": "markdown",
   "metadata": {},
   "source": [
    "자세한 설명은 https://oodeng98.tistory.com/manage/newpost/?type=post&returnURL=%2Fmanage%2Fposts# 에 적어놓았습니다."
   ]
  }
 ],
 "metadata": {
  "kernelspec": {
   "display_name": "Python 3",
   "language": "python",
   "name": "python3"
  },
  "language_info": {
   "codemirror_mode": {
    "name": "ipython",
    "version": 3
   },
   "file_extension": ".py",
   "mimetype": "text/x-python",
   "name": "python",
   "nbconvert_exporter": "python",
   "pygments_lexer": "ipython3",
   "version": "3.10.8"
  },
  "orig_nbformat": 4
 },
 "nbformat": 4,
 "nbformat_minor": 2
}
